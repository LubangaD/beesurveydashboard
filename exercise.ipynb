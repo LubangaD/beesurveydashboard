{
 "cells": [
  {
   "cell_type": "markdown",
   "metadata": {},
   "source": [
    "# Challenge A\n",
    "Plot a Barchart using plotly express instead of the chlorepath map. \n",
    "The X axis should represent States\n",
    "The Y axis should represent % of bee colonies \n",
    "\n",
    "# Challenge B\n",
    "\n",
    "Plot a line plot using plotly express to show trends overtime. \n",
    "X axis should represent year \n",
    "y axis should represent states. "
   ]
  }
 ],
 "metadata": {
  "language_info": {
   "name": "python"
  }
 },
 "nbformat": 4,
 "nbformat_minor": 2
}
